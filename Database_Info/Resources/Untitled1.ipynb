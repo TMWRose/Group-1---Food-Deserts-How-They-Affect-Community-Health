{
 "cells": [
  {
   "cell_type": "code",
   "execution_count": 1,
   "id": "80f0cac4",
   "metadata": {},
   "outputs": [],
   "source": [
    "import sqlalchemy as sql\n",
    "\n",
    "# endpoint=config.aws_endpoint\n",
    "# username='postgres'\n",
    "# password=config.aws_password\n",
    "# engine=sql.create_engine(f'postgresql://{username}:{password}@{endpoint}:5432/atlas')\n",
    "# df=pd.read_sql_table('atlas', con=engine)\n",
    "# df.head()"
   ]
  },
  {
   "cell_type": "code",
   "execution_count": null,
   "id": "8a7da808",
   "metadata": {},
   "outputs": [],
   "source": [
    "engine=sql.create_engine('postgresql://')"
   ]
  }
 ],
 "metadata": {
  "kernelspec": {
   "display_name": "PythonData",
   "language": "python",
   "name": "pythondata"
  },
  "language_info": {
   "codemirror_mode": {
    "name": "ipython",
    "version": 3
   },
   "file_extension": ".py",
   "mimetype": "text/x-python",
   "name": "python",
   "nbconvert_exporter": "python",
   "pygments_lexer": "ipython3",
   "version": "3.7.11"
  }
 },
 "nbformat": 4,
 "nbformat_minor": 5
}
