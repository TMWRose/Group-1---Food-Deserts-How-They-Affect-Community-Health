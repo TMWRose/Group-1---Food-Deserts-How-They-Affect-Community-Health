{
 "cells": [
  {
   "cell_type": "code",
   "execution_count": null,
   "id": "0ef4d07a",
   "metadata": {},
   "outputs": [],
   "source": [
    "import pandas as pd\n",
    "import numpy as np\n",
    "from matplotlib import style\n",
    "style.use('fivethirtyeight')\n",
    "import matplotlib.pyplot as plt"
   ]
  },
  {
   "cell_type": "code",
   "execution_count": null,
   "id": "35edafc1",
   "metadata": {},
   "outputs": [],
   "source": [
    "import sqlalchemy\n",
    "from sqlalchemy.ext.automap import automap_base\n",
    "from sqlalchemy.orm import session\n",
    "from sqlalchemy import create_engine, func"
   ]
  },
  {
   "cell_type": "code",
   "execution_count": null,
   "id": "885f0fc7",
   "metadata": {},
   "outputs": [],
   "source": [
    "data_to_load='Resources/Neighborhood_Effects_Food_Environment_Census_Tract_Level.csv'\n",
    "new_data_to_load='Resources/Neighborhood_Effects_Health_Status_Census_Tract_Level.csv'\n",
    "neighborhood_data=pd.read_csv(data_to_load)\n",
    "neighborhood_food_data=pd.read_csv(new_data_to_load, encoding = 'latin-1')"
   ]
  },
  {
   "cell_type": "code",
   "execution_count": null,
   "id": "08266c87",
   "metadata": {},
   "outputs": [],
   "source": [
    "access_csv='Resources/access.csv'\n",
    "pop_csv='Resources/county_population.csv'\n",
    "health_csv='Resources/health.csv'\n",
    "rest_csv='Resources/restaurants.csv'\n",
    "socio_csv='Resources/socioeconomic.csv'\n",
    "stores_csv='Resources/stores.csv'"
   ]
  },
  {
   "cell_type": "code",
   "execution_count": null,
   "id": "333ece92",
   "metadata": {},
   "outputs": [],
   "source": [
    "access_df = pd.read_csv(access_csv)\n",
    "population_df = pd.read_csv(pop_csv)\n",
    "health_df = pd.read_csv(health_csv)\n",
    "restaurant_df = pd.read_csv(rest_csv)\n",
    "socioeconomic_df = pd.read_csv(socio_csv)\n",
    "stores_df = pd.read_csv(stores_csv)"
   ]
  },
  {
   "cell_type": "code",
   "execution_count": null,
   "id": "979f8f83",
   "metadata": {},
   "outputs": [],
   "source": [
    "access_clean = access_df[['FIPS', 'LACCESS_POP10','LACCESS_POP15','LACCESS_LOWI10','LACCESS_LOWI15','LACCESS_HHNV10','LACCESS_HHNV15'\n",
    "                            ]]\n",
    "\n",
    "health_clean = health_df[['FIPS',\n",
    "                            'PCT_DIABETES_ADULTS08',\n",
    "                            'PCT_DIABETES_ADULTS13',\n",
    "                            'PCT_OBESE_ADULTS12',\n",
    "                            'PCT_OBESE_ADULTS17']]\n",
    "\n",
    "\n",
    "socioeconomic_clean = socioeconomic_df[['FIPS',\n",
    "                                        'MEDHHINC15',\n",
    "                                        'POVRATE15']]\n",
    "\n",
    "restaurant_clean = restaurant_df[['FIPS',\n",
    "                                    'FFRPTH11',\n",
    "                                    'FFRPTH16',\n",
    "                                    'PCH_FFRPTH_11_16']]\n",
    "\n",
    "stores_clean = stores_df[['FIPS',\n",
    "                        'GROCPTH11',\n",
    "                        'GROCPTH16',\n",
    "                        'PCH_GROCPTH_11_16']]"
   ]
  },
  {
   "cell_type": "code",
   "execution_count": null,
   "id": "8707fcff",
   "metadata": {
    "scrolled": true
   },
   "outputs": [],
   "source": [
    "access_clean.head(10)"
   ]
  },
  {
   "cell_type": "code",
   "execution_count": null,
   "id": "5dc96765",
   "metadata": {},
   "outputs": [],
   "source": [
    "access_clean.dtypes"
   ]
  },
  {
   "cell_type": "code",
   "execution_count": null,
   "id": "ddb38c8a",
   "metadata": {},
   "outputs": [],
   "source": [
    "health_clean.head(10)"
   ]
  },
  {
   "cell_type": "code",
   "execution_count": null,
   "id": "d878ea34",
   "metadata": {},
   "outputs": [],
   "source": [
    "health_clean.dtypes"
   ]
  },
  {
   "cell_type": "code",
   "execution_count": null,
   "id": "5c58a44a",
   "metadata": {},
   "outputs": [],
   "source": [
    "socioeconomic_clean.head(10)"
   ]
  },
  {
   "cell_type": "code",
   "execution_count": null,
   "id": "e3afcbbe",
   "metadata": {},
   "outputs": [],
   "source": [
    "socioeconomic_clean.info()"
   ]
  },
  {
   "cell_type": "code",
   "execution_count": null,
   "id": "671b1edd",
   "metadata": {},
   "outputs": [],
   "source": [
    "restaurant_clean.head(10)"
   ]
  },
  {
   "cell_type": "code",
   "execution_count": null,
   "id": "ffb8c8c9",
   "metadata": {},
   "outputs": [],
   "source": [
    "restaurant_clean.dtypes"
   ]
  },
  {
   "cell_type": "code",
   "execution_count": null,
   "id": "671ce558",
   "metadata": {},
   "outputs": [],
   "source": [
    "stores_clean.head(10)"
   ]
  },
  {
   "cell_type": "code",
   "execution_count": null,
   "id": "60686ed3",
   "metadata": {},
   "outputs": [],
   "source": [
    "stores_clean.dtypes"
   ]
  },
  {
   "cell_type": "code",
   "execution_count": null,
   "id": "b24a715a",
   "metadata": {},
   "outputs": [],
   "source": [
    "neighborhood_food_data.head()"
   ]
  },
  {
   "cell_type": "code",
   "execution_count": null,
   "id": "634f4297",
   "metadata": {},
   "outputs": [],
   "source": [
    "neighborhood_data.dtypes"
   ]
  },
  {
   "cell_type": "code",
   "execution_count": null,
   "id": "60d9300f",
   "metadata": {},
   "outputs": [],
   "source": [
    "neighborhood_food_data.dtypes"
   ]
  },
  {
   "cell_type": "code",
   "execution_count": null,
   "id": "3f8a8c19",
   "metadata": {},
   "outputs": [],
   "source": [
    "new_df = neighborhood_data[['GEOID10','CountyCode','CountyName','Food_Desert_Tot_Pop','Food_Desert_lowa_Pop','Food_Desert_Lowi','Food_Desert_mrfei']]"
   ]
  },
  {
   "cell_type": "code",
   "execution_count": null,
   "id": "321d90dc",
   "metadata": {
    "scrolled": true
   },
   "outputs": [],
   "source": [
    "new_df.rename(columns={'Food_Desert_Tot_Pop':'Total_Population',\n",
    "                        'Food_Desert_lowa_Pop':'Low_Acess_Population',\n",
    "                        'Food_Desert_Lowi':'Low_Income_Low_Acess',\n",
    "                        'Food_Desert_mrfei':'mrfei'},\n",
    "                         inplace=True)\n",
    "\n",
    "new_df.head()"
   ]
  },
  {
   "cell_type": "code",
   "execution_count": null,
   "id": "2e68cce9",
   "metadata": {},
   "outputs": [],
   "source": [
    "new_df.dtypes\n"
   ]
  },
  {
   "cell_type": "raw",
   "id": "3d6b6e65",
   "metadata": {},
   "source": []
  },
  {
   "cell_type": "code",
   "execution_count": null,
   "id": "db309022",
   "metadata": {},
   "outputs": [],
   "source": [
    "access_clean.dtypes\n",
    "\n"
   ]
  },
  {
   "cell_type": "code",
   "execution_count": null,
   "id": "0a57b807",
   "metadata": {},
   "outputs": [],
   "source": [
    "new_df.to_csv(\"Neighborhood_Data.csv\", header=True, index=False)"
   ]
  },
  {
   "cell_type": "code",
   "execution_count": null,
   "id": "0fe6e78e",
   "metadata": {},
   "outputs": [],
   "source": [
    "neighborhood_food_data.to_csv(\"Neighborhood_Food_data.csv\", header=True, index=False)"
   ]
  },
  {
   "cell_type": "code",
   "execution_count": null,
   "id": "4c214011",
   "metadata": {},
   "outputs": [],
   "source": [
    "access_clean.to_csv(\"Access_Cleaned.csv\", header=True, index=False)"
   ]
  },
  {
   "cell_type": "code",
   "execution_count": null,
   "id": "b4dacd15",
   "metadata": {},
   "outputs": [],
   "source": [
    "health_clean.to_csv(\"Health_Cleaned.csv\", header=True, index=False)"
   ]
  },
  {
   "cell_type": "code",
   "execution_count": null,
   "id": "58233317",
   "metadata": {},
   "outputs": [],
   "source": [
    "socioeconomic_clean.to_csv(\"Socio_Cleaned.csv\", header=True, index=False)"
   ]
  },
  {
   "cell_type": "code",
   "execution_count": null,
   "id": "6458862f",
   "metadata": {},
   "outputs": [],
   "source": [
    "restaurant_clean.to_csv(\"Rest_Cleaned.csv\", header=True, index=False)"
   ]
  },
  {
   "cell_type": "code",
   "execution_count": null,
   "id": "d202b063",
   "metadata": {},
   "outputs": [],
   "source": [
    "stores_clean.to_csv(\"stores_Cleaned.csv\", header=True, index=False) "
   ]
  }
 ],
 "metadata": {
  "kernelspec": {
   "display_name": "mlenv",
   "language": "python",
   "name": "mlenv"
  },
  "language_info": {
   "codemirror_mode": {
    "name": "ipython",
    "version": 3
   },
   "file_extension": ".py",
   "mimetype": "text/x-python",
   "name": "python",
   "nbconvert_exporter": "python",
   "pygments_lexer": "ipython3",
   "version": "3.7.13"
  }
 },
 "nbformat": 4,
 "nbformat_minor": 5
}
