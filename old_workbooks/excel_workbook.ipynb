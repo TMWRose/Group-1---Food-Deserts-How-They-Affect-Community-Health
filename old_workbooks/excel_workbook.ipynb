{
 "cells": [
  {
   "cell_type": "code",
   "execution_count": 1,
   "metadata": {},
   "outputs": [],
   "source": [
    "### Dependencies and Configuration ###\n",
    "\n",
    "#from config import password2\n",
    "#from config import pw2\n",
    "from sqlalchemy import create_engine\n",
    "\n",
    "import pandas as pd\n",
    "import numpy as np\n",
    "import matplotlib \n",
    "#import pyplot as plt\n"
   ]
  },
  {
   "cell_type": "code",
   "execution_count": 3,
   "metadata": {},
   "outputs": [],
   "source": [
    "#### IMPORT DATA #####\n",
    "# Using panda red_excel to import the data from the excel file\n",
    "\n",
    "EXCEL_PATH = '../data/ATLAS/FoodEnvironmentAtlas.xls'\n",
    "VARIABLE_PATH = 'data/ATLAS/variables.csv'\n",
    "\n",
    "\n",
    "# Import entire excel files as a large dictionary with sheet names as keys\n",
    "\n",
    "global_dict = pd.read_excel(EXCEL_PATH,\n",
    "sheet_name=['Supplemental Data - County','ACCESS', 'STORES', 'RESTAURANTS', 'ASSISTANCE', 'INSECURITY', 'LOCAL', 'HEALTH', 'SOCIOECONOMIC'])\n",
    "\n",
    "\n",
    "#global_dict\n",
    "\n"
   ]
  },
  {
   "cell_type": "code",
   "execution_count": null,
   "metadata": {},
   "outputs": [],
   "source": []
  },
  {
   "cell_type": "code",
   "execution_count": null,
   "metadata": {},
   "outputs": [],
   "source": []
  },
  {
   "cell_type": "code",
   "execution_count": 4,
   "metadata": {},
   "outputs": [
    {
     "data": {
      "text/plain": [
       "106"
      ]
     },
     "execution_count": 4,
     "metadata": {},
     "output_type": "execute_result"
    }
   ],
   "source": [
    "## CLEANING DATA ##\n",
    "### LISTS OF COLUMNS I WANT FROM EACH SHEET ####\n",
    "\n",
    "POPULATION_LIST = ['FIPS','County',\n",
    "'State',\n",
    "'2010_Census_Population',\n",
    "'Population_Estimate_2011',\n",
    "'Population_Estimate_2012',\n",
    "'Population_Estimate_2013',\n",
    "'Population_Estimate_2014',\n",
    "'Population_Estimate_2015',\n",
    "'Population_Estimate_2016',\n",
    "'Population_Estimate_2017',\n",
    "'Population_Estimate_2018'\n",
    "]\n",
    "\n",
    "ACCESS_LIST = ['FIPS',\n",
    "'PCT_LACCESS_POP10',\n",
    "'PCT_LACCESS_POP15',\n",
    "'PCT_LACCESS_LOWI10',\n",
    "'PCT_LACCESS_LOWI15',\n",
    "'PCT_LACCESS_CHILD10',\n",
    "'PCT_LACCESS_CHILD15',\n",
    "'PCT_LACCESS_SENIORS10',\n",
    "'PCT_LACCESS_SENIORS15',\n",
    "'PCT_LACCESS_HHNV10',\n",
    "'PCT_LACCESS_HHNV15',\n",
    "'PCT_LACCESS_SNAP15',\n",
    "# White\n",
    "'PCT_LACCESS_WHITE15',\n",
    "\n",
    "# Black\n",
    "'PCT_LACCESS_BLACK15',\n",
    "\n",
    "# Hispanic\n",
    "'PCT_LACCESS_HISP15',\n",
    "\n",
    "# Asian\n",
    "'PCT_LACCESS_NHASIAN15',\n",
    "# Native American\n",
    "'PCT_LACCESS_NHNA15',\n",
    "\n",
    "# Pacific Islander\n",
    "'PCT_LACCESS_NHPI15',\n",
    "\n",
    "'PCT_LACCESS_MULTIR15']\n",
    "\n",
    "STORES_LIST = ['FIPS',\n",
    "'GROCPTH11',\n",
    "'GROCPTH16',\n",
    "'SUPERCPTH11',\n",
    "'SUPERCPTH16',\n",
    "'CONVSPTH11',\n",
    "'CONVSPTH16',\n",
    "'SPECS11',\n",
    "'SPECS16',\n",
    "'SNAPSPTH12',\n",
    "'SNAPSPTH17',\n",
    "'WICSPTH11',\n",
    "'WICSPTH16']\n",
    "\n",
    "RESTAURANTS_LIST = ['FIPS','FFRPTH11',\n",
    "'FFRPTH16',\n",
    "'FSRPTH11',\n",
    "'FSRPTH16']\n",
    "\n",
    "ASSISTANCE_LIST = ['FIPS',\n",
    "'REDEMP_SNAPS12',\n",
    "'REDEMP_SNAPS17',\n",
    "'PCT_SNAP12',\n",
    "'PCT_SNAP17',\n",
    "'PC_SNAPBEN12',\n",
    "'PC_SNAPBEN17',\n",
    "'SNAP_PART_RATE11',\n",
    "'SNAP_PART_RATE16',\n",
    "'PC_WIC_REDEMP11',\n",
    "'PC_WIC_REDEMP16',\n",
    "'REDEMP_WICS11',\n",
    "'REDEMP_WICS16',\n",
    "'PCT_REDUCED_LUNCH10',\n",
    "'PCT_REDUCED_LUNCH15',\n",
    "]\n",
    "\n",
    "# Data is All at the State level\n",
    "INSECURITY_LIST = ['FIPS',\n",
    "'FOODINSEC_12_14',\n",
    "'FOODINSEC_15_17',\n",
    "'VLFOODSEC_12_14',\n",
    "'VLFOODSEC_15_17']\n",
    "\n",
    "LOCAL_LIST = ['FIPS',\n",
    "#Farms with direct sales (%)\n",
    "\n",
    "'PCT_LOCLFARM07','PCT_LOCLFARM12',\n",
    "\n",
    "\n",
    "#Direct farm sales per capita, 2007\t\n",
    "'PC_DIRSALES07',\n",
    "#Direct farm sales per capita, 2012\t\n",
    "'PC_DIRSALES12',\n",
    "\n",
    "\n",
    "#Farmers' markets/1,000 pop, 2013\t\n",
    "'FMRKTPTH13',\n",
    "#Farmers' markets/1,000 pop, 2018\t\n",
    "'FMRKTPTH18',\n",
    "\n",
    "#Farms with vegetables harvested for fresh market, 2007\t\n",
    "'FRESHVEG_FARMS07',\n",
    "#Farms with vegetables harvested for fresh market, 2012\t\n",
    "'FRESHVEG_FARMS12',\n",
    "\n",
    "\n",
    "\n",
    "# Vegetable acres harvested for fresh market/1,000 pop, 2007\t\n",
    "'FRESHVEG_ACRESPTH07',\n",
    "# Vegetable acres harvested for fresh market/1,000 pop, 2012\t\n",
    "'FRESHVEG_ACRESPTH12',\n",
    "\n",
    "'FMRKTPTH13',\n",
    "'FMRKTPTH18',\n",
    "'FOODHUB18']\n",
    "\n",
    "HEALTH_LIST = ['FIPS',\n",
    "'PCT_DIABETES_ADULTS08',\n",
    "'PCT_DIABETES_ADULTS13',\n",
    "'PCT_OBESE_ADULTS12',\n",
    "'PCT_OBESE_ADULTS17',\n",
    "'PCT_HSPA17',\n",
    "'RECFACPTH11',\n",
    "'RECFACPTH16']\n",
    "\n",
    "SOCIOECONOMIC_LIST = ['FIPS',\n",
    "'PCT_NHWHITE10',\n",
    "'PCT_NHBLACK10',\n",
    "'PCT_HISP10',\n",
    "'PCT_NHASIAN10',\n",
    "'PCT_NHNA10',\n",
    "'PCT_NHPI10',\n",
    "'PCT_65OLDER10',\n",
    "'PCT_18YOUNGER10',\n",
    "'MEDHHINC15',\n",
    "'POVRATE15',\n",
    "'PERPOV10',\n",
    "'CHILDPOVRATE15',\n",
    "'PERCHLDPOV10',\n",
    "'METRO13']\n",
    "\n",
    "\n",
    "GLOBAL_LIST = POPULATION_LIST + ACCESS_LIST + STORES_LIST + RESTAURANTS_LIST + ASSISTANCE_LIST + INSECURITY_LIST + LOCAL_LIST + HEALTH_LIST + SOCIOECONOMIC_LIST\n",
    "\n",
    "len(GLOBAL_LIST)"
   ]
  },
  {
   "cell_type": "code",
   "execution_count": null,
   "metadata": {},
   "outputs": [],
   "source": [
    "# #### GET THE VARIABLE INFORMATION TO CREATE A TABLE WITH DESCRIPTIONS #####\n",
    "\n",
    "# variables_df = pd.read_csv(VARIABLE_PATH)\n",
    "# variables_df\n",
    "\n",
    "# definitions_df = variables_df.loc[variables_df['Variable Code'].isin(GLOBAL_LIST)]\n",
    "# definitions_df\n",
    "\n",
    "# definitions_clean_df = definitions_df.drop(['Category Name', 'Subcategory Name', 'Geography'], axis=1)\n",
    "# definitions_clean_df\n",
    "# ### WRITE VARIABLE DEFINITIONS TO A CSV FILE ###\n",
    "\n",
    "# definitions_clean_df.to_csv('data/ATLAS/definitions.csv')"
   ]
  },
  {
   "cell_type": "code",
   "execution_count": 5,
   "metadata": {},
   "outputs": [],
   "source": [
    "### USE THE LISTS ABOVE TO CREATE DATAFRAMES FROM EACH SHEET ###\n",
    "\n",
    "population_df = global_dict['Supplemental Data - County'][POPULATION_LIST]\n",
    "access_df = global_dict['ACCESS'][ACCESS_LIST]\n",
    "store_df = global_dict['STORES'][STORES_LIST]\n",
    "restaurants_df = global_dict['RESTAURANTS'][RESTAURANTS_LIST]\n",
    "assistance_df = global_dict['ASSISTANCE'][ASSISTANCE_LIST]\n",
    "insecurity_df = global_dict['INSECURITY'][INSECURITY_LIST]\n",
    "local_df = global_dict['LOCAL'][LOCAL_LIST]\n",
    "health_df = global_dict['HEALTH'][HEALTH_LIST]\n",
    "socioeconomic_df = global_dict['SOCIOECONOMIC'][SOCIOECONOMIC_LIST]\n",
    "\n",
    "#access_df.head()\n"
   ]
  },
  {
   "cell_type": "code",
   "execution_count": 14,
   "metadata": {},
   "outputs": [
    {
     "data": {
      "text/plain": [
       "46807.0"
      ]
     },
     "execution_count": 14,
     "metadata": {},
     "output_type": "execute_result"
    }
   ],
   "source": [
    "socioeconomic_df['MEDHHINC15'].quantile(.50\n",
    "\n",
    ")\n"
   ]
  },
  {
   "cell_type": "code",
   "execution_count": null,
   "metadata": {},
   "outputs": [],
   "source": [
    "## Output the dataframes to csv files ##\n",
    "\n",
    "population_df.to_csv('data/ATLAS/population.csv')\n",
    "access_df.to_csv('data/ATLAS/access.csv')\n",
    "store_df.to_csv('data/ATLAS/stores.csv')\n",
    "restaurants_df.to_csv('data/ATLAS/restaurants.csv')\n",
    "assistance_df.to_csv('data/ATLAS/assistance.csv')\n",
    "insecurity_df.to_csv('data/ATLAS/insecurity.csv')\n",
    "local_df.to_csv('data/ATLAS/local.csv')\n",
    "health_df.to_csv('data/ATLAS/health.csv')\n",
    "socioeconomic_df.to_csv('data/ATLAS/socioeconomic.csv')\n",
    "\n"
   ]
  },
  {
   "cell_type": "code",
   "execution_count": null,
   "metadata": {},
   "outputs": [],
   "source": [
    "#### MERGE ALL DATAFRAMES INTO ONE DATAFRAME #####\n",
    "\n",
    "DATAFRAME_LIST = ['access_df','population_df', 'store_df', 'restaurants_df', 'assistance_df', 'insecurity_df', 'local_df', 'health_df', 'socioeconomic_df']\n",
    "\n",
    "proposed_merged_df = pd.concat([population_df,access_df, store_df, restaurants_df, assistance_df, insecurity_df, local_df, health_df, socioeconomic_df], axis=1)\n",
    "\n",
    "proposed_merged_df.shape\n",
    "\n",
    "proposed_merged_df.head()\n",
    "\n",
    "proposed_merged_df.dtypes"
   ]
  },
  {
   "cell_type": "code",
   "execution_count": null,
   "metadata": {},
   "outputs": [],
   "source": [
    "### get a list of datatypes for the merged list\n",
    "\n",
    "merged_datatypes = proposed_merged_df.dtypes\n",
    "\n",
    "merged_datatypes\n",
    "\n",
    "\n"
   ]
  },
  {
   "cell_type": "code",
   "execution_count": null,
   "metadata": {},
   "outputs": [],
   "source": [
    "\n",
    "# Output the datatypes to a txt file\n",
    "\n",
    "pd.DataFrame.to_csv(merged_datatypes, '../Local_resources//merged_datatypes.txt',sep=',', na_rep='.', index=True)"
   ]
  },
  {
   "cell_type": "code",
   "execution_count": null,
   "metadata": {},
   "outputs": [],
   "source": [
    "### OUTPUT THE MERGED DATAFRAME TO A CSV FILE ###\n",
    "\n",
    "proposed_merged_df.to_csv('data/ATLAS/FoodEnvironmentAtlas_proposed.csv')"
   ]
  },
  {
   "cell_type": "code",
   "execution_count": null,
   "metadata": {},
   "outputs": [],
   "source": [
    "\n",
    "proposed_merged_df.hist\n",
    "\n",
    "proposed_merged_df.describe()"
   ]
  },
  {
   "cell_type": "code",
   "execution_count": null,
   "metadata": {},
   "outputs": [],
   "source": [
    "\n"
   ]
  },
  {
   "cell_type": "code",
   "execution_count": null,
   "metadata": {},
   "outputs": [],
   "source": []
  }
 ],
 "metadata": {
  "kernelspec": {
   "display_name": "Python 3.9.13 ('mlenv')",
   "language": "python",
   "name": "python3"
  },
  "language_info": {
   "codemirror_mode": {
    "name": "ipython",
    "version": 3
   },
   "file_extension": ".py",
   "mimetype": "text/x-python",
   "name": "python",
   "nbconvert_exporter": "python",
   "pygments_lexer": "ipython3",
   "version": "3.9.13"
  },
  "orig_nbformat": 4,
  "vscode": {
   "interpreter": {
    "hash": "16da5ebd74780a3e742c70b3fe64a587568cb88d914c1ab81d04094053f67c4e"
   }
  }
 },
 "nbformat": 4,
 "nbformat_minor": 2
}
